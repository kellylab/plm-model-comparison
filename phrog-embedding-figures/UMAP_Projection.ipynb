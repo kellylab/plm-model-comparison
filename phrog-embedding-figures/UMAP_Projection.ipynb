{
  "nbformat": 4,
  "nbformat_minor": 0,
  "metadata": {
    "colab": {
      "provenance": [],
      "authorship_tag": "ABX9TyO27rQmH08Htbv2TFMotx5s",
      "include_colab_link": true
    },
    "kernelspec": {
      "name": "python3",
      "display_name": "Python 3"
    },
    "language_info": {
      "name": "python"
    }
  },
  "cells": [
    {
      "cell_type": "markdown",
      "metadata": {
        "id": "view-in-github",
        "colab_type": "text"
      },
      "source": [
        "<a href=\"https://colab.research.google.com/github/pikanaeri/plm-model-comparison/blob/main/phrog-embedding-figures/UMAP_Projection.ipynb\" target=\"_parent\"><img src=\"https://colab.research.google.com/assets/colab-badge.svg\" alt=\"Open In Colab\"/></a>"
      ]
    },
    {
      "cell_type": "code",
      "source": [
        "#@title Installing and importing UMAP (https://pypi.org/project/umap-learn/)\n",
        "pip install umap-learn[plot]\n",
        "pip install holoviews\n",
        "pip install -U ipykernel"
      ],
      "metadata": {
        "id": "1XvBOHYLvMy5"
      },
      "execution_count": null,
      "outputs": []
    },
    {
      "cell_type": "code",
      "execution_count": null,
      "metadata": {
        "id": "8ZzCmw1ZtuZX"
      },
      "outputs": [],
      "source": [
        "#@title Importing Dependencies\n",
        "import umap\n",
        "import pickle\n",
        "from ast import literal_eval\n",
        "import pandas as pd\n",
        "import numpy as np\n",
        "import random\n",
        "import os\n",
        "\n",
        "from sklearn import metrics\n",
        "from sklearn.cluster import SpectralClustering\n",
        "\n",
        "import seaborn as sns\n",
        "import matplotlib\n",
        "import matplotlib.pyplot as plt\n",
        "import textwrap\n",
        "\n",
        "from scipy.spatial.distance import squareform\n",
        "\n",
        "from sklearn.manifold import TSNE\n",
        "import umap\n",
        "\n",
        "phrog_palette = {\n",
        "    'DNA, RNA and nucleotide metabolism': 'red',\n",
        "    'connector': 'blue',\n",
        "    'head and packaging': 'green',\n",
        "    'integration and excision': 'pink',\n",
        "    'lysis': 'gray',\n",
        "    'moron, auxiliary metabolic gene and host takeover': 'brown',\n",
        "    'other': 'purple',\n",
        "    'tail': 'darkorange',\n",
        "    'transcription regulation': 'cyan'\n",
        "}"
      ]
    },
    {
      "cell_type": "code",
      "source": [
        "#@title Reading in PHROGs Information\n",
        "#@markdown * This code will take the labels from the PHROGs information list and place them in a dictionary mapping the PHROG number to the PHROG annotation\n",
        "#@markdown * Download PHROG_index.tsv here: https://storage.googleapis.com/plm-model-comparison/PHROG_index.tsv\n",
        "\n",
        "f = open(\"PHROG_index.tsv\", \"r\")\n",
        "labels = f.readline().strip().split(\"\\t\")\n",
        "\n",
        "#label for each phrog family\n",
        "phrog_dict = {}\n",
        "#counts for each phrog family\n",
        "phrog_count = {}\n",
        "phrog_cnt = 0\n",
        "\n",
        "for line in f:\n",
        "  information = line.strip().split(\"\\t\")\n",
        "  nm = int(information[0].split(\"phrog_\")[1])\n",
        "  phrog_dict[nm] = information[6]\n",
        "  if information[6] in phrog_count:\n",
        "    phrog_count[information[6]] += 1\n",
        "  else:\n",
        "    phrog_count[information[6]] = 1\n",
        "  phrog_cnt += 1\n",
        "\n",
        "for i in phrog_count:\n",
        "  print(i, phrog_count[i])\n",
        "print(\"total \", phrog_cnt)\n",
        "\n",
        "f.close()"
      ],
      "metadata": {
        "id": "nNR1GywZvgG3"
      },
      "execution_count": null,
      "outputs": []
    },
    {
      "cell_type": "code",
      "source": [
        "#@title Reading in PHROGs Embeddings\n",
        "#@markdown * This code will go through all of the embedding data\n",
        "#@markdown * Once the embedding vectors are created and averaged, store them into a final_average_embeddings folder and upload them here\n",
        "\n",
        "p_num = []\n",
        "#embedding vectors\n",
        "vectors = []\n",
        "#functional category labels\n",
        "labels = []\n",
        "\n",
        "#actual count of each phrog family per category\n",
        "act_phrog_count = {}\n",
        "cnt = 0\n",
        "os.chdir(\"final_average_embeddings\")\n",
        "\n",
        "for i in os.listdir():\n",
        "  if i.endswith(\".pkl\"):\n",
        "    f2 = open(i, \"rb\")\n",
        "    i2 = i.replace(\".pkl\", \"\").replace(\"phrog_\", \"\").replace(\"_averaged\", \"\")\n",
        "    num = int(i2)\n",
        "    if phrog_dict[num] in act_phrog_count:\n",
        "      act_phrog_count[phrog_dict[num]] += 1\n",
        "    else:\n",
        "      act_phrog_count[phrog_dict[num]] = 1\n",
        "    if phrog_dict[num] == \"unknown function\":\n",
        "      f2.close()\n",
        "      continue\n",
        "    p_num.append(num)\n",
        "    vectors.append(pickle.load(f2))\n",
        "    labels.append(phrog_dict[num])\n",
        "    f2.close()\n",
        "    cnt += 1\n",
        "\n",
        "print(\"total \", cnt)\n",
        "\n",
        "for i in act_phrog_count:\n",
        "  print(i, act_phrog_count[i])\n",
        "\n",
        "labels = np.array(labels)\n",
        "vectors = np.array(vectors)"
      ],
      "metadata": {
        "id": "KDsi9wtQIub3"
      },
      "execution_count": null,
      "outputs": []
    },
    {
      "cell_type": "code",
      "source": [
        "#@title Creating and Saving Figure\n",
        "\n",
        "umap_2d = umap.UMAP(n_components=2, init='random', random_state=123)\n",
        "umapper = umap_2d.fit_transform(vectors)\n",
        "\n",
        "df_u = pd.DataFrame()\n",
        "df_u['label'] = labels\n",
        "df_u['comp1'] = umapper[:,0]\n",
        "df_u['comp2'] = umapper[:,1]\n",
        "plt.rcParams.update({'font.size': 24})\n",
        "plt.figure(figsize=(24,12))\n",
        "ax = sns.scatterplot(x='comp1', y='comp2', hue=df_u.label.tolist(),\n",
        "                palette=phrog_palette,\n",
        "                legend=False,\n",
        "                s=40,\n",
        "                data=df_u)\n",
        "\n",
        "\n",
        "plt.tight_layout()\n",
        "plt.savefig('family_vector_centroid_umap.png', dpi=300)\n",
        "\n",
        "plt.show()"
      ],
      "metadata": {
        "id": "lS4aJrmfJqMg"
      },
      "execution_count": null,
      "outputs": []
    }
  ]
}